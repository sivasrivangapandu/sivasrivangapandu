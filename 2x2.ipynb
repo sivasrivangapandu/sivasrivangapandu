{
  "nbformat": 4,
  "nbformat_minor": 0,
  "metadata": {
    "colab": {
      "provenance": [],
      "toc_visible": true,
      "authorship_tag": "ABX9TyPpccwOul4uAVi77NWf1IbT",
      "include_colab_link": true
    },
    "kernelspec": {
      "name": "python3",
      "display_name": "Python 3"
    },
    "language_info": {
      "name": "python"
    }
  },
  "cells": [
    {
      "cell_type": "markdown",
      "metadata": {
        "id": "view-in-github",
        "colab_type": "text"
      },
      "source": [
        "<a href=\"https://colab.research.google.com/github/sivasrivangapandu/sivasrivangapandu/blob/main/2x2.ipynb\" target=\"_parent\"><img src=\"https://colab.research.google.com/assets/colab-badge.svg\" alt=\"Open In Colab\"/></a>"
      ]
    },
    {
      "cell_type": "code",
      "execution_count": 16,
      "metadata": {
        "colab": {
          "base_uri": "https://localhost:8080/"
        },
        "id": "4GlPoHEzqcRY",
        "outputId": "11da90cf-f5ca-4b56-a6a7-06644f6b68d7"
      },
      "outputs": [
        {
          "output_type": "execute_result",
          "data": {
            "text/plain": [
              "array([2, 5])"
            ]
          },
          "metadata": {},
          "execution_count": 16
        }
      ],
      "source": [
        "import numpy as np\n",
        "data=[[1,2,3],[4,5,6]]\n",
        "arr=np.array(data)\n",
        "arr\n",
        "arr[:,1]\n"
      ]
    },
    {
      "cell_type": "code",
      "source": [
        "import numpy as np\n",
        "data=[[1,2,3],[4,5,6],[7,8,9]]\n",
        "arr=np.array(data)\n",
        "arr[:2,1:]"
      ],
      "metadata": {
        "colab": {
          "base_uri": "https://localhost:8080/"
        },
        "id": "3BYA-6ZCx7Hj",
        "outputId": "36803f9b-1a4f-4ef8-c959-05e276437a14"
      },
      "execution_count": 18,
      "outputs": [
        {
          "output_type": "execute_result",
          "data": {
            "text/plain": [
              "array([[2, 3],\n",
              "       [5, 6]])"
            ]
          },
          "metadata": {},
          "execution_count": 18
        }
      ]
    },
    {
      "cell_type": "code",
      "source": [
        "import numpy as np\n",
        "data=[[[1,2,3],[4,5,6],[7,8,9]],[[9,8,7],[6,5,4],[3,2,1]]]\n",
        "arr=np.array(data)\n",
        "##transpose_arr=np.transpose(arr,(1,0,2))\n",
        "transpose_arr=arr.swapaxes(0,1)\n",
        "transpose_arr"
      ],
      "metadata": {
        "colab": {
          "base_uri": "https://localhost:8080/"
        },
        "id": "eIP-u_T-zRPL",
        "outputId": "1d7721bc-461b-4453-932a-0731e42acc6f"
      },
      "execution_count": 25,
      "outputs": [
        {
          "output_type": "execute_result",
          "data": {
            "text/plain": [
              "array([[[1, 2, 3],\n",
              "        [9, 8, 7]],\n",
              "\n",
              "       [[4, 5, 6],\n",
              "        [6, 5, 4]],\n",
              "\n",
              "       [[7, 8, 9],\n",
              "        [3, 2, 1]]])"
            ]
          },
          "metadata": {},
          "execution_count": 25
        }
      ]
    },
    {
      "cell_type": "code",
      "source": [
        "import numpy as np\n",
        "data=[[1,2,3],[4,5,6],[6,7,8]]\n",
        "arr=np.array(data)\n",
        "t_arr=arr.T\n",
        "t_arr[-2,]\n"
      ],
      "metadata": {
        "colab": {
          "base_uri": "https://localhost:8080/"
        },
        "id": "wl3jJVGz3dIU",
        "outputId": "00562f8a-7479-433e-e560-11d2da48b2c6"
      },
      "execution_count": 30,
      "outputs": [
        {
          "output_type": "execute_result",
          "data": {
            "text/plain": [
              "array([2, 5, 7])"
            ]
          },
          "metadata": {},
          "execution_count": 30
        }
      ]
    },
    {
      "cell_type": "code",
      "source": [
        "import numpy as np\n",
        "data=[[[1,2,3],[4,5,6],[7,8,9]],[[9,8,7],[6,5,4],[3,2,1]]]\n",
        "arr=np.array(data)\n",
        "arr[1][:2,1:]"
      ],
      "metadata": {
        "colab": {
          "base_uri": "https://localhost:8080/"
        },
        "id": "YrOGRi7d4b9T",
        "outputId": "396d5089-d674-4d7f-aa39-36dbf821f870"
      },
      "execution_count": 47,
      "outputs": [
        {
          "output_type": "execute_result",
          "data": {
            "text/plain": [
              "array([[8, 7],\n",
              "       [5, 4]])"
            ]
          },
          "metadata": {},
          "execution_count": 47
        }
      ]
    }
  ]
}